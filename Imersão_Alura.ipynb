{
  "nbformat": 4,
  "nbformat_minor": 0,
  "metadata": {
    "colab": {
      "provenance": [],
      "authorship_tag": "ABX9TyOLTS7kFFS3yKw7mZinZmV3",
      "include_colab_link": true
    },
    "kernelspec": {
      "name": "python3",
      "display_name": "Python 3"
    },
    "language_info": {
      "name": "python"
    }
  },
  "cells": [
    {
      "cell_type": "markdown",
      "metadata": {
        "id": "view-in-github",
        "colab_type": "text"
      },
      "source": [
        "<a href=\"https://colab.research.google.com/github/PJCF2/ALURA_GOOGLE/blob/main/Imers%C3%A3o_Alura.ipynb\" target=\"_parent\"><img src=\"https://colab.research.google.com/assets/colab-badge.svg\" alt=\"Open In Colab\"/></a>"
      ]
    },
    {
      "cell_type": "markdown",
      "source": [
        "Instando google SDK"
      ],
      "metadata": {
        "id": "2FCyXqKfS8e5"
      }
    },
    {
      "cell_type": "code",
      "execution_count": null,
      "metadata": {
        "id": "Lhh0O2TdRM13"
      },
      "outputs": [],
      "source": [
        "!pip install -q -U google-generativeai"
      ]
    },
    {
      "cell_type": "code",
      "source": [
        "# Import the Python SDK\n",
        "import google.generativeai as genai\n",
        "from google.colab import userdata\n",
        "api_key = userdata.get(\"secretkey\")\n",
        "\n",
        "GOOGLE_API_KEY=\"api_key\"\n",
        "genai.configure(api_key=api_key)"
      ],
      "metadata": {
        "id": "ik6uDO4lTQvj"
      },
      "execution_count": 1,
      "outputs": []
    },
    {
      "cell_type": "markdown",
      "source": [
        "Listar modelos disponiveis."
      ],
      "metadata": {
        "id": "KwraRUg3UUQU"
      }
    },
    {
      "cell_type": "code",
      "source": [
        "for m in genai.list_models():\n",
        "  if 'generateContent' in m.supported_generation_methods:\n",
        "    print(m.name)"
      ],
      "metadata": {
        "colab": {
          "base_uri": "https://localhost:8080/",
          "height": 139
        },
        "id": "1aQTiIGVUxt2",
        "outputId": "ec96fea4-1183-47a4-c806-2dc70c6e68a2"
      },
      "execution_count": 2,
      "outputs": [
        {
          "output_type": "stream",
          "name": "stdout",
          "text": [
            "models/gemini-1.0-pro\n",
            "models/gemini-1.0-pro-001\n",
            "models/gemini-1.0-pro-latest\n",
            "models/gemini-1.0-pro-vision-latest\n",
            "models/gemini-1.5-pro-latest\n",
            "models/gemini-pro\n",
            "models/gemini-pro-vision\n"
          ]
        }
      ]
    },
    {
      "cell_type": "code",
      "source": [
        "generation_config = {\n",
        "    \"candidate_count\": 1,\n",
        "    \"temperature\": 0.5\n",
        "}"
      ],
      "metadata": {
        "id": "2G3Db9NzXECL"
      },
      "execution_count": 3,
      "outputs": []
    },
    {
      "cell_type": "code",
      "source": [
        "safety_settings={\n",
        "    'HATE': 'BLOCK_NONE',\n",
        "    'HARASSMENT': 'BLOCK_NONE',\n",
        "    'SEXUAL' : 'BLOCK_NONE',\n",
        "    'DANGEROUS' : 'BLOCK_NONE'\n",
        "    }"
      ],
      "metadata": {
        "id": "woR-H7a7XgKQ"
      },
      "execution_count": 4,
      "outputs": []
    },
    {
      "cell_type": "markdown",
      "source": [
        "INICIANDO MODELO"
      ],
      "metadata": {
        "id": "51KDwdxjZzdH"
      }
    },
    {
      "cell_type": "code",
      "source": [
        "model = genai.GenerativeModel('gemini-pro')"
      ],
      "metadata": {
        "id": "HkZ48TuqacO4"
      },
      "execution_count": 5,
      "outputs": []
    },
    {
      "cell_type": "code",
      "source": [
        "model = genai.GenerativeModel(model_name='gemini-1.0-pro',\n",
        "                                  generation_config=generation_config,\n",
        "                                  safety_settings=safety_settings,)"
      ],
      "metadata": {
        "id": "fV7nfUqvY3hY"
      },
      "execution_count": 6,
      "outputs": []
    },
    {
      "cell_type": "markdown",
      "source": [
        "------"
      ],
      "metadata": {
        "id": "ReJHgwNOam_7"
      }
    },
    {
      "cell_type": "code",
      "source": [
        "response = model.generate_content(\"Voce pode fazer calculos arquitetonicos?\")\n",
        "print(response.text)"
      ],
      "metadata": {
        "id": "wtJJtqwzan-i",
        "colab": {
          "base_uri": "https://localhost:8080/",
          "height": 503
        },
        "outputId": "3da3f9cb-ace7-4316-d079-bae6c4ad5c2e"
      },
      "execution_count": 7,
      "outputs": [
        {
          "output_type": "stream",
          "name": "stdout",
          "text": [
            "Sim, posso realizar cálculos arquitetônicos básicos, como:\n",
            "\n",
            "**Área:**\n",
            "* Área de um retângulo: Comprimento x Largura\n",
            "* Área de um triângulo: (Base x Altura) / 2\n",
            "* Área de um círculo: πr² (onde r é o raio)\n",
            "\n",
            "**Volume:**\n",
            "* Volume de um cubo: Comprimento³\n",
            "* Volume de um paralelepípedo: Comprimento x Largura x Altura\n",
            "* Volume de uma pirâmide: (Área da base x Altura) / 3\n",
            "\n",
            "**Conversões:**\n",
            "* Metros para pés: Metros x 3,281\n",
            "* Pés para metros: Pés / 3,281\n",
            "* Polegadas para centímetros: Polegadas x 2,54\n",
            "* Centímetros para polegadas: Centímetros / 2,54\n",
            "\n",
            "**Outros:**\n",
            "* Inclinação do telhado: Altura / Comprimento da inclinação\n",
            "* Taxa de cobertura: Área do telhado / Área do piso\n",
            "* Estimativa de materiais: Área ou volume x Taxa de uso de material\n",
            "\n",
            "**Observações:**\n",
            "\n",
            "* Os cálculos são aproximados e devem ser usados apenas para estimativas.\n",
            "* Para cálculos mais precisos, recomendo consultar um profissional de arquitetura ou engenharia.\n",
            "* Use unidades consistentes (por exemplo, metros ou pés) em todos os cálculos.\n"
          ]
        }
      ]
    },
    {
      "cell_type": "code",
      "source": [
        "chat = model.start_chat(history=[])"
      ],
      "metadata": {
        "id": "959jcnS-a_jo"
      },
      "execution_count": 8,
      "outputs": []
    },
    {
      "cell_type": "code",
      "source": [
        "prompt = input(\"Esperando Prompt: \")\n",
        "\n",
        "while prompt != \"fim\":\n",
        "  response = chat.send_message(prompt)\n",
        "  print(\"Resposta:\", response.text, \"\\n\")\n",
        "  prompt = input(\"Esperando Prompt: \")"
      ],
      "metadata": {
        "colab": {
          "base_uri": "https://localhost:8080/",
          "height": 86
        },
        "id": "xNYgSJbEbZYy",
        "outputId": "dbf3e587-7f12-4823-f06c-0e7b70a441f0"
      },
      "execution_count": 9,
      "outputs": [
        {
          "name": "stdout",
          "output_type": "stream",
          "text": [
            "Esperando Prompt: Ola mundo\n",
            "Resposta: Olá, mundo! \n",
            "\n",
            "Esperando Prompt: fim\n"
          ]
        }
      ]
    },
    {
      "cell_type": "code",
      "source": [
        "#Melhorando a visualização\n",
        "#Código disponível em https://ai.google.dev/tutorials/python_quickstart#import_packages\n",
        "import textwrap\n",
        "from IPython.display import display\n",
        "from IPython.display import Markdown\n",
        "\n",
        "def to_markdown(text):\n",
        "  text = text.replace('•', '  *')\n",
        "  return Markdown(textwrap.indent(text, '> ', predicate=lambda _: True))\n",
        "\n",
        "#Imprimindo o histórico\n",
        "for message in chat.history:\n",
        "  display(to_markdown(f'**{message.role}**: {message.parts[0].text}'))\n",
        "  print('-------------------------------------------')"
      ],
      "metadata": {
        "colab": {
          "base_uri": "https://localhost:8080/",
          "height": 142
        },
        "id": "7AKZCj-fezLk",
        "outputId": "c2ef46a0-658a-4121-daec-9806bf45de25"
      },
      "execution_count": 10,
      "outputs": [
        {
          "output_type": "display_data",
          "data": {
            "text/plain": [
              "<IPython.core.display.Markdown object>"
            ],
            "text/markdown": "> **user**: Ola mundo"
          },
          "metadata": {}
        },
        {
          "output_type": "stream",
          "name": "stdout",
          "text": [
            "-------------------------------------------\n"
          ]
        },
        {
          "output_type": "display_data",
          "data": {
            "text/plain": [
              "<IPython.core.display.Markdown object>"
            ],
            "text/markdown": "> **model**: Olá, mundo!"
          },
          "metadata": {}
        },
        {
          "output_type": "stream",
          "name": "stdout",
          "text": [
            "-------------------------------------------\n"
          ]
        }
      ]
    }
  ]
}